{
 "cells": [
  {
   "cell_type": "code",
   "execution_count": 56,
   "id": "76ca1bab",
   "metadata": {},
   "outputs": [],
   "source": [
    "import numpy as np\n",
    "import pandas as pd\n",
    "import matplotlib.pyplot as plt\n",
    "import yfinance as yf"
   ]
  },
  {
   "cell_type": "code",
   "execution_count": 57,
   "id": "09d1e5a7",
   "metadata": {},
   "outputs": [],
   "source": [
    "#Stocks in the portfolio: AAPL 26.75%, MSFT 21.4%, AMZN 17.82%, GOOGL 15.3%, TSLA 13.38%\n",
    "shares = {'AAPL':14,'MSFT':5,'AMZN':11,'GOOGL':10,'TSLA':7}\n",
    "\n",
    "stocks = ['AAPL','MSFT','AMZN','GOOGL','TSLA']\n",
    "closing_prices = {}\n",
    "\n",
    "for stock in stocks:\n",
    "    price = yf.Ticker(stock)\n",
    "    closing_prices[stock] = round(price.history().tail(1)['Close'].iloc[0], 2)"
   ]
  },
  {
   "cell_type": "code",
   "execution_count": 58,
   "id": "e29669b7",
   "metadata": {},
   "outputs": [
    {
     "data": {
      "text/plain": [
       "{'AAPL': 184.4, 'MSFT': 397.58, 'AMZN': 155.2, 'GOOGL': 140.1, 'TSLA': 187.29}"
      ]
     },
     "execution_count": 58,
     "metadata": {},
     "output_type": "execute_result"
    }
   ],
   "source": [
    "closing_prices"
   ]
  },
  {
   "cell_type": "code",
   "execution_count": 59,
   "id": "390c05f2",
   "metadata": {},
   "outputs": [
    {
     "data": {
      "text/plain": [
       "{'AAPL': 2581.6,\n",
       " 'MSFT': 1987.9,\n",
       " 'AMZN': 1707.2,\n",
       " 'GOOGL': 1401.0,\n",
       " 'TSLA': 1311.03}"
      ]
     },
     "execution_count": 59,
     "metadata": {},
     "output_type": "execute_result"
    }
   ],
   "source": [
    "#Portfolio Values\n",
    "p_stock_values = {}\n",
    "\n",
    "for stock in stocks:\n",
    "    p_stock_values[stock] = round(closing_prices[stock] * shares[stock],2)\n",
    "\n",
    "p_stock_values"
   ]
  },
  {
   "cell_type": "code",
   "execution_count": 60,
   "id": "c98da993",
   "metadata": {},
   "outputs": [
    {
     "data": {
      "text/plain": [
       "8988.73"
      ]
     },
     "execution_count": 60,
     "metadata": {},
     "output_type": "execute_result"
    }
   ],
   "source": [
    "stock_values = p_stock_values.values()\n",
    "total_p_value = sum(stock_values)\n",
    "total_p_value"
   ]
  },
  {
   "cell_type": "code",
   "execution_count": 61,
   "id": "a24edc6b",
   "metadata": {},
   "outputs": [
    {
     "data": {
      "text/plain": [
       "{'AAPL': 0.29, 'MSFT': 0.22, 'AMZN': 0.19, 'GOOGL': 0.16, 'TSLA': 0.15}"
      ]
     },
     "execution_count": 61,
     "metadata": {},
     "output_type": "execute_result"
    }
   ],
   "source": [
    "#Portfolio weights\n",
    "p_stock_weights = {}\n",
    "\n",
    "for stock in stocks:\n",
    "    p_stock_weights[stock] = round(p_stock_values[stock] / total_p_value,2)\n",
    "\n",
    "p_stock_weights"
   ]
  },
  {
   "cell_type": "code",
   "execution_count": 62,
   "id": "9abc58b5",
   "metadata": {},
   "outputs": [
    {
     "data": {
      "text/plain": [
       "1.01"
      ]
     },
     "execution_count": 62,
     "metadata": {},
     "output_type": "execute_result"
    }
   ],
   "source": [
    "sum(p_stock_weights.values())"
   ]
  },
  {
   "cell_type": "code",
   "execution_count": 63,
   "id": "64fc5107",
   "metadata": {},
   "outputs": [
    {
     "data": {
      "text/plain": [
       "0.12363779604958995"
      ]
     },
     "execution_count": 63,
     "metadata": {},
     "output_type": "execute_result"
    }
   ],
   "source": [
    "# Volatility (180-day volatility at time)\n",
    "vol_AAPL = 0.2044\n",
    "vol_MSFT = 0.1869\n",
    "vol_AMZN = 0.2956\n",
    "vol_GOOGL = 0.2544\n",
    "vol_TSLA = 0.4840\n",
    "\n",
    "vol = {'AAPL':0.2044,'MSFT':0.1869,'AMZN':0.2956,'GOOGL':0.2544,'TSLA':0.4840}\n",
    "\n",
    "portfolio_volatility = np.sqrt(sum((vol[stock]**2) * (p_stock_weights[stock]**2) for stock in p_stock_weights))\n",
    "portfolio_volatility"
   ]
  },
  {
   "cell_type": "code",
   "execution_count": 64,
   "id": "c75228a7",
   "metadata": {},
   "outputs": [],
   "source": [
    "#Simulation\n",
    "simulations = 50000\n",
    "#time horizon\n",
    "t_horizon = 152/252\n",
    "#risk-free rate\n",
    "rfr = 0.052"
   ]
  },
  {
   "cell_type": "code",
   "execution_count": 65,
   "id": "94898d81",
   "metadata": {},
   "outputs": [],
   "source": [
    "#returns on portfolio function\n",
    "def VaR(pv,rfr,vol,t,simulations):\n",
    "    end_value = pv * np.exp((rfr - 0.5 * vol ** 2)*t + np.random.standard_normal(\n",
    "        simulations) * vol *np.sqrt(t))\n",
    "    returns = end_value - pv\n",
    "    return returns"
   ]
  },
  {
   "cell_type": "code",
   "execution_count": 66,
   "id": "17f685d7",
   "metadata": {},
   "outputs": [
    {
     "data": {
      "text/plain": [
       "array([1322.09136119,  229.6942721 ,  472.47687375, ...,  336.83941249,\n",
       "        576.90327298,  351.08653458])"
      ]
     },
     "execution_count": 66,
     "metadata": {},
     "output_type": "execute_result"
    }
   ],
   "source": [
    "portfolio_returns = VaR(total_p_value,rfr,portfolio_volatility,t_horizon,simulations)\n",
    "portfolio_returns"
   ]
  },
  {
   "cell_type": "code",
   "execution_count": 67,
   "id": "09d0b35e",
   "metadata": {},
   "outputs": [
    {
     "name": "stdout",
     "output_type": "stream",
     "text": [
      "Current value = $8,989\n",
      "Var at 90% confidence level: $-833 a loss of -9%\n",
      "Var at 95% confidence level: $-1,116 a loss of -12%\n",
      "Var at 99% confidence level: $-1,617 a loss of -18%\n"
     ]
    },
    {
     "data": {
      "image/png": "[encoded data removed]",
      "text/plain": [
       "<Figure size 640x480 with 1 Axes>"
      ]
     },
     "metadata": {},
     "output_type": "display_data"
    }
   ],
   "source": [
    "plt.hist(portfolio_returns, bins = 100);\n",
    "print('Current value = ${:,.0f}'.format(total_p_value))\n",
    "# Show VaR at 90%, 95%, and 99% confidence level\n",
    "percentiles = [10,5,1]\n",
    "\n",
    "for i in percentiles:\n",
    "    confidence = (100-i)/100\n",
    "    value = np.percentile(portfolio_returns,i)\n",
    "    loss = value/total_p_value\n",
    "    print(\"Var at {:.0%} confidence level: ${:,.0f} a loss of {:.0%}\".format(confidence,value,loss))\n",
    "    plt.axvline(value,color = 'red', linestyle='dashed',linewidth=1)"
   ]
  }
 ],
 "metadata": {
  "kernelspec": {
   "display_name": "Python 3 (ipykernel)",
   "language": "python",
   "name": "python3"
  },
  "language_info": {
   "codemirror_mode": {
    "name": "ipython",
    "version": 3
   },
   "file_extension": ".py",
   "mimetype": "text/x-python",
   "name": "python",
   "nbconvert_exporter": "python",
   "pygments_lexer": "ipython3",
   "version": "3.11.5"
  }
 },
 "nbformat": 4,
 "nbformat_minor": 5
}
